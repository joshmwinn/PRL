{
 "cells": [
  {
   "cell_type": "code",
   "execution_count": 103,
   "id": "2d305a5d",
   "metadata": {},
   "outputs": [],
   "source": [
    "import pandas as pd"
   ]
  },
  {
   "cell_type": "code",
   "execution_count": 104,
   "id": "740983e2",
   "metadata": {},
   "outputs": [],
   "source": [
    "#loading excel sheets\n",
    "post = pd.read_excel(r'/Users/josh/Documents/PRL/Josh Data/2/postCovidClean.xlsx')\n",
    "pre = pd.read_excel(r'/Users/josh/Documents/PRL/Josh Data/2/preCovidClean.xlsx')"
   ]
  },
  {
   "cell_type": "code",
   "execution_count": 105,
   "id": "3e8da256",
   "metadata": {},
   "outputs": [],
   "source": [
    "#rennaming columns\n",
    "post=post.rename(columns={'Unnamed: 0': 'ADVERTISER', 'ADVERTISER':'Post Frequency'})\n",
    "pre=pre.rename(columns={'Unnamed: 0': 'ADVERTISER', 'ADVERTISER':'Pre Frequency'})"
   ]
  },
  {
   "cell_type": "code",
   "execution_count": 106,
   "id": "5ab02278",
   "metadata": {},
   "outputs": [],
   "source": [
    "#combining the frequencies based on companies found on both lists\n",
    "both = pre.merge(post, how = 'inner', on ='ADVERTISER')"
   ]
  },
  {
   "cell_type": "code",
   "execution_count": 119,
   "id": "70088128",
   "metadata": {},
   "outputs": [],
   "source": [
    "#Checking the new data frame\n",
    "#both.shape\n",
    "#both.head()"
   ]
  },
  {
   "cell_type": "code",
   "execution_count": null,
   "id": "82469edb",
   "metadata": {},
   "outputs": [],
   "source": [
    "#made an excel file with the companies in the pre and post list to categorize. \n",
    "#companies = both['ADVERTISER']\n",
    "#companies.to_excel(r'/Users/josh/Documents/PRL/Josh Data/3/companyCategory.xlsx')"
   ]
  },
  {
   "cell_type": "code",
   "execution_count": 69,
   "id": "be38bf33",
   "metadata": {},
   "outputs": [],
   "source": [
    "company = pd.read_excel(r'/Users/josh/Documents/PRL/Josh Data/3/companyCategory.xlsx')"
   ]
  },
  {
   "cell_type": "code",
   "execution_count": 110,
   "id": "279d28bb",
   "metadata": {},
   "outputs": [],
   "source": [
    "categorized = company.merge(both, how = 'inner', on ='ADVERTISER')"
   ]
  },
  {
   "cell_type": "code",
   "execution_count": 111,
   "id": "296a1362",
   "metadata": {},
   "outputs": [],
   "source": [
    "categorized = categorized.drop(columns = ['Unnamed: 0'])"
   ]
  },
  {
   "cell_type": "code",
   "execution_count": 112,
   "id": "a827592b",
   "metadata": {},
   "outputs": [],
   "source": [
    "categorized.to_excel(r'/Users/josh/Documents/PRL/Josh Data/3/CategorizedFrequency.xlsx')"
   ]
  },
  {
   "cell_type": "code",
   "execution_count": null,
   "id": "8f335f6c",
   "metadata": {},
   "outputs": [],
   "source": []
  },
  {
   "cell_type": "code",
   "execution_count": null,
   "id": "b42b603c",
   "metadata": {},
   "outputs": [],
   "source": []
  },
  {
   "cell_type": "code",
   "execution_count": null,
   "id": "3b615446",
   "metadata": {},
   "outputs": [],
   "source": []
  },
  {
   "cell_type": "code",
   "execution_count": null,
   "id": "a24de2d6",
   "metadata": {},
   "outputs": [],
   "source": []
  },
  {
   "cell_type": "code",
   "execution_count": null,
   "id": "71eec5d5",
   "metadata": {},
   "outputs": [],
   "source": []
  },
  {
   "cell_type": "code",
   "execution_count": null,
   "id": "6d022c06",
   "metadata": {},
   "outputs": [],
   "source": []
  },
  {
   "cell_type": "code",
   "execution_count": null,
   "id": "93009724",
   "metadata": {},
   "outputs": [],
   "source": []
  }
 ],
 "metadata": {
  "kernelspec": {
   "display_name": "Python 3",
   "language": "python",
   "name": "python3"
  },
  "language_info": {
   "codemirror_mode": {
    "name": "ipython",
    "version": 3
   },
   "file_extension": ".py",
   "mimetype": "text/x-python",
   "name": "python",
   "nbconvert_exporter": "python",
   "pygments_lexer": "ipython3",
   "version": "3.8.8"
  }
 },
 "nbformat": 4,
 "nbformat_minor": 5
}
