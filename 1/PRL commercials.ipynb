{
 "cells": [
  {
   "cell_type": "code",
   "execution_count": 1,
   "metadata": {},
   "outputs": [],
   "source": [
    "import pandas as pd"
   ]
  },
  {
   "cell_type": "code",
   "execution_count": 2,
   "metadata": {},
   "outputs": [],
   "source": [
    "data=pd.read_excel(r'C:\\Users\\user\\Downloads\\Data to USE.xlsx')"
   ]
  },
  {
   "cell_type": "code",
   "execution_count": 3,
   "metadata": {
    "scrolled": false
   },
   "outputs": [
    {
     "data": {
      "text/html": [
       "<div>\n",
       "<style scoped>\n",
       "    .dataframe tbody tr th:only-of-type {\n",
       "        vertical-align: middle;\n",
       "    }\n",
       "\n",
       "    .dataframe tbody tr th {\n",
       "        vertical-align: top;\n",
       "    }\n",
       "\n",
       "    .dataframe thead th {\n",
       "        text-align: right;\n",
       "    }\n",
       "</style>\n",
       "<table border=\"1\" class=\"dataframe\">\n",
       "  <thead>\n",
       "    <tr style=\"text-align: right;\">\n",
       "      <th></th>\n",
       "      <th>CATEGORY</th>\n",
       "      <th>PARENT</th>\n",
       "      <th>ADVERTISER</th>\n",
       "      <th>PRODUCT</th>\n",
       "      <th>TITLE</th>\n",
       "      <th>TAGLINE</th>\n",
       "      <th>REVISION</th>\n",
       "      <th>DESCRIPTION</th>\n",
       "      <th>LANGUAGE</th>\n",
       "      <th>MEDIA TYPE</th>\n",
       "      <th>...</th>\n",
       "      <th>ADSCOPE ID</th>\n",
       "      <th>CORE CREATIVE ID</th>\n",
       "      <th>CREATIVE ATTRIBUTE(S)</th>\n",
       "      <th>LAST PERIOD AIRED</th>\n",
       "      <th>LENGTH/SIZE</th>\n",
       "      <th>MARKET1</th>\n",
       "      <th>PROGRAM</th>\n",
       "      <th>FIRST SEEN</th>\n",
       "      <th>UNITS</th>\n",
       "      <th>DOLS</th>\n",
       "    </tr>\n",
       "  </thead>\n",
       "  <tbody>\n",
       "    <tr>\n",
       "      <th>0</th>\n",
       "      <td>D567 Prescription Medications NEC</td>\n",
       "      <td>Gilead Sciences</td>\n",
       "      <td>Gilead</td>\n",
       "      <td>Biktarvy : HIV Rx</td>\n",
       "      <td>Keep Loving Who You Are</td>\n",
       "      <td>LOVE WHAT'S INSIDE</td>\n",
       "      <td>NaN</td>\n",
       "      <td>A man is featured. M-Annc If you're living wit...</td>\n",
       "      <td>English</td>\n",
       "      <td>TV</td>\n",
       "      <td>...</td>\n",
       "      <td>40393351.0</td>\n",
       "      <td>22285557</td>\n",
       "      <td>NaN</td>\n",
       "      <td>2020-05-18</td>\n",
       "      <td>60</td>\n",
       "      <td>* NATIONAL</td>\n",
       "      <td>EMPIRE | VOICE</td>\n",
       "      <td>2020-01-05</td>\n",
       "      <td>11</td>\n",
       "      <td>2790100.0</td>\n",
       "    </tr>\n",
       "    <tr>\n",
       "      <th>1</th>\n",
       "      <td>D569 Prescription Medications General Promotio...</td>\n",
       "      <td>AbbVie Inc</td>\n",
       "      <td>AbbVie</td>\n",
       "      <td>Humira : Psoriatic Arthritis &amp; Rheumatoid Arth...</td>\n",
       "      <td>Relief Pain And Joint Damage</td>\n",
       "      <td>Body of Proof</td>\n",
       "      <td>NaN</td>\n",
       "      <td>Collage of different videos are featured. Woma...</td>\n",
       "      <td>English</td>\n",
       "      <td>TV</td>\n",
       "      <td>...</td>\n",
       "      <td>40360402.0</td>\n",
       "      <td>22265365</td>\n",
       "      <td>Price Point=Y|</td>\n",
       "      <td>2020-04-13</td>\n",
       "      <td>60</td>\n",
       "      <td>* NATIONAL</td>\n",
       "      <td>BIG BANG THEORY | EMPIRE | MODERN FAMILY | VOICE</td>\n",
       "      <td>2020-01-01</td>\n",
       "      <td>18</td>\n",
       "      <td>2498964.0</td>\n",
       "    </tr>\n",
       "    <tr>\n",
       "      <th>2</th>\n",
       "      <td>D564 Prescription Arthritis, Osteoporosis, Mus...</td>\n",
       "      <td>AbbVie Inc</td>\n",
       "      <td>AbbVie</td>\n",
       "      <td>Rinvoq : Rheumatoid Arthritis Rx</td>\n",
       "      <td>Make Your Mission</td>\n",
       "      <td>NaN</td>\n",
       "      <td>NaN</td>\n",
       "      <td>An old woman is featured. F-Annc Your mission ...</td>\n",
       "      <td>English</td>\n",
       "      <td>TV</td>\n",
       "      <td>...</td>\n",
       "      <td>40840547.0</td>\n",
       "      <td>22517598</td>\n",
       "      <td>NaN</td>\n",
       "      <td>2020-04-20</td>\n",
       "      <td>60</td>\n",
       "      <td>* NATIONAL</td>\n",
       "      <td>EMPIRE | MODERN FAMILY | VOICE</td>\n",
       "      <td>2020-02-18</td>\n",
       "      <td>12</td>\n",
       "      <td>2392732.0</td>\n",
       "    </tr>\n",
       "    <tr>\n",
       "      <th>3</th>\n",
       "      <td>G930 Corporate Advertising NEC</td>\n",
       "      <td>Amazon.com Inc</td>\n",
       "      <td>Amazon</td>\n",
       "      <td>Amazon.com Inc : Corporate Promotion</td>\n",
       "      <td>Getting the Things Done: S. Rhoads</td>\n",
       "      <td>NaN</td>\n",
       "      <td>NaN</td>\n",
       "      <td>Exterior of a warehouse is featured. Sarah Rho...</td>\n",
       "      <td>English</td>\n",
       "      <td>TV</td>\n",
       "      <td>...</td>\n",
       "      <td>41396443.0</td>\n",
       "      <td>22778862</td>\n",
       "      <td>Spokesperson=Y|COVID/Coronavirus Mention=Y|</td>\n",
       "      <td>2020-05-18</td>\n",
       "      <td>30</td>\n",
       "      <td>* NATIONAL</td>\n",
       "      <td>BIG BANG THEORY | MODERN FAMILY | VOICE</td>\n",
       "      <td>2020-04-16</td>\n",
       "      <td>58</td>\n",
       "      <td>2219385.0</td>\n",
       "    </tr>\n",
       "    <tr>\n",
       "      <th>4</th>\n",
       "      <td>B122 Investment Products &amp; Services (Excluding...</td>\n",
       "      <td>JP Morgan Chase &amp; Co</td>\n",
       "      <td>Chase</td>\n",
       "      <td>Chase Bank : General Promotion - Investment Pr...</td>\n",
       "      <td>Always Working Hard</td>\n",
       "      <td>MAKE MORE OF WHAT'S YOURS</td>\n",
       "      <td>NaN</td>\n",
       "      <td>A woman is featured. Woman Your work hard for ...</td>\n",
       "      <td>English</td>\n",
       "      <td>TV</td>\n",
       "      <td>...</td>\n",
       "      <td>40882653.0</td>\n",
       "      <td>22532583</td>\n",
       "      <td>NaN</td>\n",
       "      <td>2020-03-16</td>\n",
       "      <td>30</td>\n",
       "      <td>* NATIONAL</td>\n",
       "      <td>BIG BANG THEORY | MODERN FAMILY</td>\n",
       "      <td>2020-02-17</td>\n",
       "      <td>66</td>\n",
       "      <td>2155989.0</td>\n",
       "    </tr>\n",
       "  </tbody>\n",
       "</table>\n",
       "<p>5 rows × 21 columns</p>\n",
       "</div>"
      ],
      "text/plain": [
       "                                            CATEGORY                PARENT  \\\n",
       "0                  D567 Prescription Medications NEC       Gilead Sciences   \n",
       "1  D569 Prescription Medications General Promotio...            AbbVie Inc   \n",
       "2  D564 Prescription Arthritis, Osteoporosis, Mus...            AbbVie Inc   \n",
       "3                     G930 Corporate Advertising NEC        Amazon.com Inc   \n",
       "4  B122 Investment Products & Services (Excluding...  JP Morgan Chase & Co   \n",
       "\n",
       "  ADVERTISER                                            PRODUCT  \\\n",
       "0     Gilead                                  Biktarvy : HIV Rx   \n",
       "1     AbbVie  Humira : Psoriatic Arthritis & Rheumatoid Arth...   \n",
       "2     AbbVie                   Rinvoq : Rheumatoid Arthritis Rx   \n",
       "3     Amazon               Amazon.com Inc : Corporate Promotion   \n",
       "4      Chase  Chase Bank : General Promotion - Investment Pr...   \n",
       "\n",
       "                                TITLE                    TAGLINE REVISION  \\\n",
       "0             Keep Loving Who You Are         LOVE WHAT'S INSIDE      NaN   \n",
       "1        Relief Pain And Joint Damage              Body of Proof      NaN   \n",
       "2                   Make Your Mission                        NaN      NaN   \n",
       "3  Getting the Things Done: S. Rhoads                        NaN      NaN   \n",
       "4                 Always Working Hard  MAKE MORE OF WHAT'S YOURS      NaN   \n",
       "\n",
       "                                         DESCRIPTION LANGUAGE MEDIA TYPE  ...  \\\n",
       "0  A man is featured. M-Annc If you're living wit...  English         TV  ...   \n",
       "1  Collage of different videos are featured. Woma...  English         TV  ...   \n",
       "2  An old woman is featured. F-Annc Your mission ...  English         TV  ...   \n",
       "3  Exterior of a warehouse is featured. Sarah Rho...  English         TV  ...   \n",
       "4  A woman is featured. Woman Your work hard for ...  English         TV  ...   \n",
       "\n",
       "   ADSCOPE ID  CORE CREATIVE ID                        CREATIVE ATTRIBUTE(S)  \\\n",
       "0  40393351.0          22285557                                          NaN   \n",
       "1  40360402.0          22265365                               Price Point=Y|   \n",
       "2  40840547.0          22517598                                          NaN   \n",
       "3  41396443.0          22778862  Spokesperson=Y|COVID/Coronavirus Mention=Y|   \n",
       "4  40882653.0          22532583                                          NaN   \n",
       "\n",
       "  LAST PERIOD AIRED LENGTH/SIZE     MARKET1  \\\n",
       "0        2020-05-18          60  * NATIONAL   \n",
       "1        2020-04-13          60  * NATIONAL   \n",
       "2        2020-04-20          60  * NATIONAL   \n",
       "3        2020-05-18          30  * NATIONAL   \n",
       "4        2020-03-16          30  * NATIONAL   \n",
       "\n",
       "                                            PROGRAM FIRST SEEN UNITS  \\\n",
       "0                                    EMPIRE | VOICE 2020-01-05    11   \n",
       "1  BIG BANG THEORY | EMPIRE | MODERN FAMILY | VOICE 2020-01-01    18   \n",
       "2                    EMPIRE | MODERN FAMILY | VOICE 2020-02-18    12   \n",
       "3           BIG BANG THEORY | MODERN FAMILY | VOICE 2020-04-16    58   \n",
       "4                   BIG BANG THEORY | MODERN FAMILY 2020-02-17    66   \n",
       "\n",
       "        DOLS  \n",
       "0  2790100.0  \n",
       "1  2498964.0  \n",
       "2  2392732.0  \n",
       "3  2219385.0  \n",
       "4  2155989.0  \n",
       "\n",
       "[5 rows x 21 columns]"
      ]
     },
     "execution_count": 3,
     "metadata": {},
     "output_type": "execute_result"
    }
   ],
   "source": [
    "data.head()"
   ]
  },
  {
   "cell_type": "code",
   "execution_count": 4,
   "metadata": {},
   "outputs": [
    {
     "data": {
      "text/plain": [
       "(5025, 21)"
      ]
     },
     "execution_count": 4,
     "metadata": {},
     "output_type": "execute_result"
    }
   ],
   "source": [
    "data.shape"
   ]
  },
  {
   "cell_type": "code",
   "execution_count": 5,
   "metadata": {},
   "outputs": [],
   "source": [
    "#making 2 time stamps (ts) to bracket off dates\n",
    "ts1 = pd.to_datetime('2020-01-01')\n",
    "ts2 = pd.to_datetime('2020-05-31')"
   ]
  },
  {
   "cell_type": "code",
   "execution_count": null,
   "metadata": {},
   "outputs": [],
   "source": []
  },
  {
   "cell_type": "code",
   "execution_count": 6,
   "metadata": {
    "scrolled": true
   },
   "outputs": [
    {
     "data": {
      "text/plain": [
       "(3349, 21)"
      ]
     },
     "execution_count": 6,
     "metadata": {},
     "output_type": "execute_result"
    }
   ],
   "source": [
    "#Drop ads first seen before 1/1/2020 and after 5/31/2020\n",
    "bin1 = data.loc[data['FIRST SEEN'] > '2020-01-01']\n",
    "bin1 = bin1.loc[bin1['FIRST SEEN'] < '2020-05-31']\n",
    "\n",
    "bin1.shape\n",
    "#bin1 shape did not change after passing the second date"
   ]
  },
  {
   "cell_type": "code",
   "execution_count": 7,
   "metadata": {},
   "outputs": [
    {
     "data": {
      "text/plain": [
       "(1433, 21)"
      ]
     },
     "execution_count": 7,
     "metadata": {},
     "output_type": "execute_result"
    }
   ],
   "source": [
    "csv1 = bin1.loc[bin1['FIRST SEEN'] >= '2020-03-14']\n",
    "csv1.shape"
   ]
  },
  {
   "cell_type": "code",
   "execution_count": 8,
   "metadata": {},
   "outputs": [
    {
     "data": {
      "text/plain": [
       "(1926, 21)"
      ]
     },
     "execution_count": 8,
     "metadata": {},
     "output_type": "execute_result"
    }
   ],
   "source": [
    "csv2 = bin1.loc[bin1['FIRST SEEN'] <= '2020-03-14']\n",
    "csv2.shape"
   ]
  },
  {
   "cell_type": "code",
   "execution_count": 9,
   "metadata": {},
   "outputs": [
    {
     "data": {
      "text/plain": [
       "(391, 21)"
      ]
     },
     "execution_count": 9,
     "metadata": {},
     "output_type": "execute_result"
    }
   ],
   "source": [
    "csv2 = csv2.loc[csv2['LAST PERIOD AIRED'] > '2020-03-16']\n",
    "csv2.shape"
   ]
  },
  {
   "cell_type": "code",
   "execution_count": null,
   "metadata": {},
   "outputs": [],
   "source": []
  },
  {
   "cell_type": "code",
   "execution_count": null,
   "metadata": {},
   "outputs": [],
   "source": []
  },
  {
   "cell_type": "code",
   "execution_count": 13,
   "metadata": {},
   "outputs": [
    {
     "data": {
      "text/plain": [
       "Timestamp('2020-03-14 00:00:00')"
      ]
     },
     "execution_count": 13,
     "metadata": {},
     "output_type": "execute_result"
    }
   ],
   "source": [
    "csv2['FIRST SEEN'].max()"
   ]
  },
  {
   "cell_type": "code",
   "execution_count": 14,
   "metadata": {},
   "outputs": [
    {
     "data": {
      "text/plain": [
       "Timestamp('2020-01-04 00:00:00')"
      ]
     },
     "execution_count": 14,
     "metadata": {},
     "output_type": "execute_result"
    }
   ],
   "source": [
    "csv2['FIRST SEEN'].min()"
   ]
  },
  {
   "cell_type": "code",
   "execution_count": 12,
   "metadata": {},
   "outputs": [],
   "source": [
    "csv1.to_csv('postcovid.csv',index=False)\n",
    "csv2.to_csv('precovid.csv',index=False)\n"
   ]
  },
  {
   "cell_type": "code",
   "execution_count": 15,
   "metadata": {},
   "outputs": [
    {
     "data": {
      "text/plain": [
       "(1433, 21)"
      ]
     },
     "execution_count": 15,
     "metadata": {},
     "output_type": "execute_result"
    }
   ],
   "source": [
    "csv1.shape"
   ]
  },
  {
   "cell_type": "code",
   "execution_count": 16,
   "metadata": {},
   "outputs": [
    {
     "data": {
      "text/plain": [
       "(391, 21)"
      ]
     },
     "execution_count": 16,
     "metadata": {},
     "output_type": "execute_result"
    }
   ],
   "source": [
    "csv2.shape"
   ]
  },
  {
   "cell_type": "code",
   "execution_count": null,
   "metadata": {},
   "outputs": [],
   "source": []
  },
  {
   "cell_type": "code",
   "execution_count": null,
   "metadata": {},
   "outputs": [],
   "source": []
  }
 ],
 "metadata": {
  "kernelspec": {
   "display_name": "Python 3",
   "language": "python",
   "name": "python3"
  },
  "language_info": {
   "codemirror_mode": {
    "name": "ipython",
    "version": 3
   },
   "file_extension": ".py",
   "mimetype": "text/x-python",
   "name": "python",
   "nbconvert_exporter": "python",
   "pygments_lexer": "ipython3",
   "version": "3.7.3"
  }
 },
 "nbformat": 4,
 "nbformat_minor": 2
}
