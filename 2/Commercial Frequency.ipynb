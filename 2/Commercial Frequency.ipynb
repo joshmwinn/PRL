{
 "cells": [
  {
   "cell_type": "code",
   "execution_count": 1,
   "metadata": {},
   "outputs": [],
   "source": [
    "import pandas as pd\n"
   ]
  },
  {
   "cell_type": "code",
   "execution_count": 2,
   "metadata": {},
   "outputs": [],
   "source": [
    "post = pd.read_csv(r'C:\\Users\\user\\PycharmProjects\\personalprojects\\PRL\\postcovid.csv')\n",
    "pre = pd.read_csv(r'C:\\Users\\user\\PycharmProjects\\personalprojects\\PRL\\precovid.csv')"
   ]
  },
  {
   "cell_type": "code",
   "execution_count": 3,
   "metadata": {},
   "outputs": [
    {
     "data": {
      "text/plain": [
       "216"
      ]
     },
     "execution_count": 3,
     "metadata": {},
     "output_type": "execute_result"
    }
   ],
   "source": [
    "#returns the count of unique values in column \"ADVERTISER\"\n",
    "pre['ADVERTISER'].nunique()"
   ]
  },
  {
   "cell_type": "code",
   "execution_count": 4,
   "metadata": {},
   "outputs": [],
   "source": [
    "#returns a series of the frequency of unique values in the column 'ADVERTISER'\n",
    "fTable = pre['ADVERTISER'].value_counts()"
   ]
  },
  {
   "cell_type": "code",
   "execution_count": 5,
   "metadata": {},
   "outputs": [],
   "source": [
    "#returns a list of the top 10 advertisers values from the series value_counts() returns\n",
    "top10 = pre['ADVERTISER'].value_counts().head(10).index.tolist()"
   ]
  },
  {
   "cell_type": "code",
   "execution_count": 6,
   "metadata": {},
   "outputs": [],
   "source": [
    "#returns the dataframe with only the advertisers in the top10 list and saves it as a csv\n",
    "data = pre[pre['ADVERTISER'].isin(top10)]\n",
    "data = data[['ADVERTISER', 'PRODUCT', 'LINK', 'LENGTH/SIZE', 'UNITS']]"
   ]
  },
  {
   "cell_type": "code",
   "execution_count": 7,
   "metadata": {},
   "outputs": [],
   "source": [
    "#Saves the data as 2 sheets on an excel file\n",
    "writer = pd.ExcelWriter(r'C:\\Users\\user\\PycharmProjects\\personalprojects\\PRL\\preCovidClean.xlsx', engine = 'xlsxwriter')\n",
    "fTable.to_excel(writer, sheet_name = 'uniqueFrequency')\n",
    "data.to_excel(writer, sheet_name = 'CleanData')\n",
    "writer.save()\n",
    "writer.close()"
   ]
  },
  {
   "cell_type": "code",
   "execution_count": null,
   "metadata": {},
   "outputs": [],
   "source": []
  },
  {
   "cell_type": "code",
   "execution_count": 8,
   "metadata": {},
   "outputs": [],
   "source": [
    "#this section repeats the code for the 'post' excel sheet"
   ]
  },
  {
   "cell_type": "code",
   "execution_count": 9,
   "metadata": {},
   "outputs": [
    {
     "data": {
      "text/plain": [
       "453"
      ]
     },
     "execution_count": 9,
     "metadata": {},
     "output_type": "execute_result"
    }
   ],
   "source": [
    "#returns the count of unique values in column \"ADVERTISER\"\n",
    "post['ADVERTISER'].nunique()"
   ]
  },
  {
   "cell_type": "code",
   "execution_count": 10,
   "metadata": {},
   "outputs": [],
   "source": [
    "#returns a series of the frequency of unique values in the column 'ADVERTISER'\n",
    "fTable2 = post['ADVERTISER'].value_counts()"
   ]
  },
  {
   "cell_type": "code",
   "execution_count": 11,
   "metadata": {},
   "outputs": [],
   "source": [
    "#returns a list of the top 10 advertisers values from the series value_counts() returns\n",
    "top10post = post['ADVERTISER'].value_counts().head(10).index.tolist()"
   ]
  },
  {
   "cell_type": "code",
   "execution_count": 12,
   "metadata": {},
   "outputs": [],
   "source": [
    "#returns the dataframe with only the advertisers in the top10 list and saves it as a csv\n",
    "data = post[post['ADVERTISER'].isin(top10)]\n",
    "data = data[['ADVERTISER', 'PRODUCT', 'LINK', 'LENGTH/SIZE', 'UNITS']]"
   ]
  },
  {
   "cell_type": "code",
   "execution_count": 13,
   "metadata": {},
   "outputs": [],
   "source": [
    "#Saves the data as 2 sheets on an excel file\n",
    "writer = pd.ExcelWriter(r'C:\\Users\\user\\PycharmProjects\\personalprojects\\PRL\\postCovidClean.xlsx', engine = 'xlsxwriter')\n",
    "fTable2.to_excel(writer, sheet_name = 'uniqueFrequency')\n",
    "data.to_excel(writer, sheet_name = 'CleanData')\n",
    "writer.save()\n",
    "writer.close()"
   ]
  },
  {
   "cell_type": "code",
   "execution_count": 16,
   "metadata": {},
   "outputs": [
    {
     "data": {
      "text/plain": [
       "Amazon                       31\n",
       "Lowes                        29\n",
       "Universal Pictures           27\n",
       "Apple                        19\n",
       "Macys                        18\n",
       "NBC/The More You Know/PSA    18\n",
       "Verizon                      17\n",
       "HBO                          17\n",
       "Taco Bell Restaurant         17\n",
       "AT&T                         16\n",
       "Name: ADVERTISER, dtype: int64"
      ]
     },
     "execution_count": 16,
     "metadata": {},
     "output_type": "execute_result"
    }
   ],
   "source": [
    "fTable2.head(10)"
   ]
  },
  {
   "cell_type": "code",
   "execution_count": 17,
   "metadata": {},
   "outputs": [
    {
     "data": {
      "text/plain": [
       "Progressive                  10\n",
       "State Farm                    9\n",
       "Intuit                        8\n",
       "US Census Bureau              7\n",
       "Tide                          6\n",
       "Dove                          5\n",
       "Straight Talk                 5\n",
       "AbbVie                        5\n",
       "National Assn Of Realtors     5\n",
       "Gilead                        5\n",
       "Name: ADVERTISER, dtype: int64"
      ]
     },
     "execution_count": 17,
     "metadata": {},
     "output_type": "execute_result"
    }
   ],
   "source": [
    "fTable.head(10)"
   ]
  },
  {
   "cell_type": "code",
   "execution_count": null,
   "metadata": {},
   "outputs": [],
   "source": []
  },
  {
   "cell_type": "code",
   "execution_count": null,
   "metadata": {},
   "outputs": [],
   "source": []
  }
 ],
 "metadata": {
  "kernelspec": {
   "display_name": "Python 3",
   "language": "python",
   "name": "python3"
  },
  "language_info": {
   "codemirror_mode": {
    "name": "ipython",
    "version": 3
   },
   "file_extension": ".py",
   "mimetype": "text/x-python",
   "name": "python",
   "nbconvert_exporter": "python",
   "pygments_lexer": "ipython3",
   "version": "3.7.3"
  }
 },
 "nbformat": 4,
 "nbformat_minor": 2
}
